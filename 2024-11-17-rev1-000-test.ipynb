{
  "cells": [
    {
      "metadata": {
        "id": "f65cd8acf6ceeda7"
      },
      "cell_type": "markdown",
      "source": [
        "# Testing `2024-11-17-rev1-000` Model"
      ],
      "id": "f65cd8acf6ceeda7"
    },
    {
      "metadata": {
        "id": "8bbed4542154e55a"
      },
      "cell_type": "code",
      "source": [
        "import sys\n",
        "import os\n",
        "\n",
        "colab = 'google.colab' in sys.modules"
      ],
      "id": "8bbed4542154e55a",
      "outputs": [],
      "execution_count": 1
    },
    {
      "metadata": {
        "id": "febf3f49d71bb78a",
        "outputId": "ab096366-8b57-41cc-ce91-baa71119440c",
        "colab": {
          "base_uri": "https://localhost:8080/"
        }
      },
      "cell_type": "code",
      "source": [
        "if colab:\n",
        "    os.environ['PROJECT_DIR'] = project_dir = '/content/Foggy-CycleGAN'\n",
        "    replace = True\n",
        "    if os.path.isdir(project_dir):\n",
        "        choice = input(\"Project already exists in folder \" +\n",
        "                       \"{}\\nDelete the files and pull again? Enter Y/(N):\\n\"\n",
        "                       .format(project_dir))\n",
        "        if choice.lower() == 'y':\n",
        "            !rm -r $PROJECT_DIR\n",
        "            print(\"Deleted folder {}\".format(project_dir))\n",
        "        else:\n",
        "            replace = False\n",
        "            print(\"Nothing was changed.\")\n",
        "    if replace:\n",
        "        !cd /content && git clone https://github.com/ghaiszaher/Foggy-CycleGAN.git\n",
        "        print(\"Project cloned to \" + project_dir)\n",
        "    os.chdir(project_dir)\n",
        "    print(\"Done.\")"
      ],
      "id": "febf3f49d71bb78a",
      "outputs": [
        {
          "output_type": "stream",
          "name": "stdout",
          "text": [
            "Cloning into 'Foggy-CycleGAN'...\n",
            "remote: Enumerating objects: 937, done.\u001b[K\n",
            "remote: Counting objects: 100% (130/130), done.\u001b[K\n",
            "remote: Compressing objects: 100% (57/57), done.\u001b[K\n",
            "remote: Total 937 (delta 92), reused 85 (delta 71), pack-reused 807 (from 1)\u001b[K\n",
            "Receiving objects: 100% (937/937), 68.32 MiB | 35.67 MiB/s, done.\n",
            "Resolving deltas: 100% (562/562), done.\n",
            "Project cloned to /content/Foggy-CycleGAN\n",
            "Done.\n"
          ]
        }
      ],
      "execution_count": 2
    },
    {
      "metadata": {
        "id": "40bb017068d0d5a3",
        "outputId": "76503e7b-1f96-4405-97a4-a8dfc347be84",
        "colab": {
          "base_uri": "https://localhost:8080/"
        }
      },
      "cell_type": "code",
      "source": [
        "from lib.tools import create_dir\n",
        "\n",
        "output = './weights/generator_clear2fog.weights.h5'\n",
        "if not os.path.exists(output):\n",
        "    import gdown\n",
        "    file_id = '10cBLNuofYGbyrC6DKRycD-fmx0Wh7BCr'\n",
        "    create_dir('./weights/')\n",
        "    print(\"Downloading weights...\")\n",
        "    gdown.download(f'https://drive.google.com/uc?id={file_id}', output, quiet=False)\n",
        "    print(\"Weights downloaded.\")\n",
        "else:\n",
        "    print(\"Weights already downloaded.\")"
      ],
      "id": "40bb017068d0d5a3",
      "outputs": [
        {
          "output_type": "stream",
          "name": "stdout",
          "text": [
            "Downloading weights...\n"
          ]
        },
        {
          "output_type": "stream",
          "name": "stderr",
          "text": [
            "Downloading...\n",
            "From (original): https://drive.google.com/uc?id=10cBLNuofYGbyrC6DKRycD-fmx0Wh7BCr\n",
            "From (redirected): https://drive.google.com/uc?id=10cBLNuofYGbyrC6DKRycD-fmx0Wh7BCr&confirm=t&uuid=acfa52ff-1ef9-49a9-8834-2bb32cc68690\n",
            "To: /content/Foggy-CycleGAN/weights/generator_clear2fog.weights.h5\n",
            "100%|██████████| 218M/218M [00:03<00:00, 70.1MB/s]"
          ]
        },
        {
          "output_type": "stream",
          "name": "stdout",
          "text": [
            "Weights downloaded.\n"
          ]
        },
        {
          "output_type": "stream",
          "name": "stderr",
          "text": [
            "\n"
          ]
        }
      ],
      "execution_count": 3
    },
    {
      "metadata": {
        "id": "d3ffc8f1b4f3f6db"
      },
      "cell_type": "code",
      "source": [
        "from lib.models import ModelsBuilder\n",
        "\n",
        "models_builder = ModelsBuilder()\n",
        "generator_clear2fog = models_builder.build_generator()\n",
        "generator_clear2fog.load_weights('./weights/generator_clear2fog.weights.h5')"
      ],
      "id": "d3ffc8f1b4f3f6db",
      "outputs": [],
      "execution_count": 4
    },
    {
      "cell_type": "code",
      "source": [
        "import os\n",
        "import tensorflow as tf\n",
        "import pandas as pd\n",
        "from lib.plot import plot_clear2fog_intensity\n",
        "from lib.dataset import DatasetInitializer\n",
        "\n",
        "# 初始化 DatasetInitializer\n",
        "datasetInit = DatasetInitializer(1024,1024)\n",
        "\n",
        "# 參數設置\n",
        "input_folder = '/content/drive/MyDrive/full_aerial_images'  # 輸入圖片資料夾\n",
        "output_folder = './custom-images/output/'  # 輸出圖片資料夾\n",
        "fog_intensity = 0.4  # 霧化強度\n",
        "output_csv = './custom-images/results.csv'  # SSIM 和 PSNR 結果保存路徑\n",
        "\n",
        "# 創建輸出資料夾（如果不存在）\n",
        "os.makedirs(output_folder, exist_ok=True)\n",
        "\n",
        "# 初始化指標\n",
        "ssim_scores = []\n",
        "psnr_scores = []\n",
        "image_names = []\n",
        "\n",
        "# 遍歷輸入資料夾中的所有圖片\n",
        "for image_name in os.listdir(input_folder):\n",
        "    input_path = os.path.join(input_folder, image_name)\n",
        "    output_path = os.path.join(output_folder, image_name)\n",
        "\n",
        "    try:\n",
        "        # 讀取和預處理圖片\n",
        "        image_clear = tf.io.decode_png(tf.io.read_file(input_path), channels=3)\n",
        "        image_clear, _ = datasetInit.preprocess_image_test(image_clear, 0)\n",
        "\n",
        "        # 生成霧化圖片\n",
        "        _, foggy_image = plot_clear2fog_intensity(generator_clear2fog, image_clear, fog_intensity)\n",
        "\n",
        "        # 計算 SSIM 和 PSNR\n",
        "        ssim = tf.image.ssim(image_clear, foggy_image, max_val=1.0).numpy()\n",
        "        psnr = tf.image.psnr(image_clear, foggy_image, max_val=1.0).numpy()\n",
        "        ssim_scores.append(ssim)\n",
        "        psnr_scores.append(psnr)\n",
        "        image_names.append(image_name)\n",
        "\n",
        "        # 保存生成的霧化圖片\n",
        "        foggy_image_uint8 = tf.image.convert_image_dtype(foggy_image, dtype=tf.uint8)\n",
        "        encoded_image = tf.io.encode_png(foggy_image_uint8)\n",
        "        tf.io.write_file(output_path, encoded_image)\n",
        "        print(f\"Processed {image_name}: SSIM={ssim:.4f}, PSNR={psnr:.4f}\")\n",
        "\n",
        "    except Exception as e:\n",
        "        print(f\"Error processing {image_name}: {e}\")\n",
        "\n",
        "# 計算平均 SSIM 和 PSNR\n",
        "mean_ssim = sum(ssim_scores) / len(ssim_scores) if ssim_scores else 0\n",
        "mean_psnr = sum(psnr_scores) / len(psnr_scores) if psnr_scores else 0\n",
        "\n",
        "# 保存 SSIM 和 PSNR 結果到 CSV\n",
        "results_df = pd.DataFrame({\n",
        "    \"Image Name\": image_names,\n",
        "    \"SSIM\": ssim_scores,\n",
        "    \"PSNR (dB)\": psnr_scores\n",
        "})\n",
        "mean_row = pd.DataFrame({\n",
        "    \"Image Name\": [\"Mean\"],\n",
        "    \"SSIM\": [mean_ssim],\n",
        "    \"PSNR (dB)\": [mean_psnr]\n",
        "})\n"
      ],
      "metadata": {
        "id": "QFWR9qRFZR3o",
        "outputId": "0b498dac-050c-4949-c394-1afa24f6842b",
        "colab": {
          "base_uri": "https://localhost:8080/",
          "height": 1000
        }
      },
      "id": "QFWR9qRFZR3o",
      "execution_count": 7,
      "outputs": [
        {
          "output_type": "stream",
          "name": "stdout",
          "text": [
            "Error processing 000000801.jpg: Input 0 of layer \"functional_15\" is incompatible with the layer: expected shape=(None, 256, 256, 3), found shape=(1, 1024, 1024, 3)\n",
            "Error processing 000000824.jpg: Input 0 of layer \"functional_15\" is incompatible with the layer: expected shape=(None, 256, 256, 3), found shape=(1, 1024, 1024, 3)\n",
            "Error processing 000000812.jpg: Input 0 of layer \"functional_15\" is incompatible with the layer: expected shape=(None, 256, 256, 3), found shape=(1, 1024, 1024, 3)\n",
            "Error processing 000000807.jpg: Input 0 of layer \"functional_15\" is incompatible with the layer: expected shape=(None, 256, 256, 3), found shape=(1, 1024, 1024, 3)\n",
            "Error processing 000000828.jpg: Input 0 of layer \"functional_15\" is incompatible with the layer: expected shape=(None, 256, 256, 3), found shape=(1, 1024, 1024, 3)\n",
            "Error processing 000000816.jpg: Input 0 of layer \"functional_15\" is incompatible with the layer: expected shape=(None, 256, 256, 3), found shape=(1, 1024, 1024, 3)\n",
            "Error processing 000000805.jpg: Input 0 of layer \"functional_15\" is incompatible with the layer: expected shape=(None, 256, 256, 3), found shape=(1, 1024, 1024, 3)\n",
            "Error processing 000000823.jpg: Input 0 of layer \"functional_15\" is incompatible with the layer: expected shape=(None, 256, 256, 3), found shape=(1, 1024, 1024, 3)\n",
            "Error processing 000000802.jpg: Input 0 of layer \"functional_15\" is incompatible with the layer: expected shape=(None, 256, 256, 3), found shape=(1, 1024, 1024, 3)\n",
            "Error processing 000000826.jpg: Input 0 of layer \"functional_15\" is incompatible with the layer: expected shape=(None, 256, 256, 3), found shape=(1, 1024, 1024, 3)\n",
            "Error processing 000000803.jpg: Input 0 of layer \"functional_15\" is incompatible with the layer: expected shape=(None, 256, 256, 3), found shape=(1, 1024, 1024, 3)\n",
            "Error processing 000000806.jpg: Input 0 of layer \"functional_15\" is incompatible with the layer: expected shape=(None, 256, 256, 3), found shape=(1, 1024, 1024, 3)\n",
            "Error processing 000000813.jpg: Input 0 of layer \"functional_15\" is incompatible with the layer: expected shape=(None, 256, 256, 3), found shape=(1, 1024, 1024, 3)\n",
            "Error processing 000000800.jpg: Input 0 of layer \"functional_15\" is incompatible with the layer: expected shape=(None, 256, 256, 3), found shape=(1, 1024, 1024, 3)\n",
            "Error processing 000000829.jpg: Input 0 of layer \"functional_15\" is incompatible with the layer: expected shape=(None, 256, 256, 3), found shape=(1, 1024, 1024, 3)\n",
            "Error processing 000000815.jpg: Input 0 of layer \"functional_15\" is incompatible with the layer: expected shape=(None, 256, 256, 3), found shape=(1, 1024, 1024, 3)\n",
            "Error processing 000000818.jpg: Input 0 of layer \"functional_15\" is incompatible with the layer: expected shape=(None, 256, 256, 3), found shape=(1, 1024, 1024, 3)\n",
            "Error processing 000000811.jpg: Input 0 of layer \"functional_15\" is incompatible with the layer: expected shape=(None, 256, 256, 3), found shape=(1, 1024, 1024, 3)\n",
            "Error processing 000000820.jpg: Input 0 of layer \"functional_15\" is incompatible with the layer: expected shape=(None, 256, 256, 3), found shape=(1, 1024, 1024, 3)\n",
            "Error processing 000000804.jpg: Input 0 of layer \"functional_15\" is incompatible with the layer: expected shape=(None, 256, 256, 3), found shape=(1, 1024, 1024, 3)\n",
            "Error processing 000000822.jpg: Input 0 of layer \"functional_15\" is incompatible with the layer: expected shape=(None, 256, 256, 3), found shape=(1, 1024, 1024, 3)\n",
            "Error processing 000000819.jpg: Input 0 of layer \"functional_15\" is incompatible with the layer: expected shape=(None, 256, 256, 3), found shape=(1, 1024, 1024, 3)\n",
            "Error processing 000000817.jpg: Input 0 of layer \"functional_15\" is incompatible with the layer: expected shape=(None, 256, 256, 3), found shape=(1, 1024, 1024, 3)\n",
            "Error processing 000000814.jpg: Input 0 of layer \"functional_15\" is incompatible with the layer: expected shape=(None, 256, 256, 3), found shape=(1, 1024, 1024, 3)\n",
            "Error processing 000000809.jpg: Input 0 of layer \"functional_15\" is incompatible with the layer: expected shape=(None, 256, 256, 3), found shape=(1, 1024, 1024, 3)\n",
            "Error processing 000000825.jpg: Input 0 of layer \"functional_15\" is incompatible with the layer: expected shape=(None, 256, 256, 3), found shape=(1, 1024, 1024, 3)\n",
            "Error processing 000000821.jpg: Input 0 of layer \"functional_15\" is incompatible with the layer: expected shape=(None, 256, 256, 3), found shape=(1, 1024, 1024, 3)\n",
            "Error processing 000000808.jpg: Input 0 of layer \"functional_15\" is incompatible with the layer: expected shape=(None, 256, 256, 3), found shape=(1, 1024, 1024, 3)\n",
            "Error processing 000000827.jpg: Input 0 of layer \"functional_15\" is incompatible with the layer: expected shape=(None, 256, 256, 3), found shape=(1, 1024, 1024, 3)\n",
            "Error processing 000000830.jpg: Input 0 of layer \"functional_15\" is incompatible with the layer: expected shape=(None, 256, 256, 3), found shape=(1, 1024, 1024, 3)\n",
            "Error processing 000000810.jpg: Input 0 of layer \"functional_15\" is incompatible with the layer: expected shape=(None, 256, 256, 3), found shape=(1, 1024, 1024, 3)\n",
            "Error processing 000000848.jpg: Input 0 of layer \"functional_15\" is incompatible with the layer: expected shape=(None, 256, 256, 3), found shape=(1, 1024, 1024, 3)\n",
            "Error processing 000000867.jpg: Input 0 of layer \"functional_15\" is incompatible with the layer: expected shape=(None, 256, 256, 3), found shape=(1, 1024, 1024, 3)\n",
            "Error processing 000000871.jpg: Input 0 of layer \"functional_15\" is incompatible with the layer: expected shape=(None, 256, 256, 3), found shape=(1, 1024, 1024, 3)\n"
          ]
        },
        {
          "output_type": "error",
          "ename": "KeyboardInterrupt",
          "evalue": "",
          "traceback": [
            "\u001b[0;31m---------------------------------------------------------------------------\u001b[0m",
            "\u001b[0;31mKeyboardInterrupt\u001b[0m                         Traceback (most recent call last)",
            "\u001b[0;32m<ipython-input-7-1162a5f71d46>\u001b[0m in \u001b[0;36m<cell line: 25>\u001b[0;34m()\u001b[0m\n\u001b[1;32m     30\u001b[0m         \u001b[0;31m# 讀取和預處理圖片\u001b[0m\u001b[0;34m\u001b[0m\u001b[0;34m\u001b[0m\u001b[0m\n\u001b[1;32m     31\u001b[0m         \u001b[0mimage_clear\u001b[0m \u001b[0;34m=\u001b[0m \u001b[0mtf\u001b[0m\u001b[0;34m.\u001b[0m\u001b[0mio\u001b[0m\u001b[0;34m.\u001b[0m\u001b[0mdecode_png\u001b[0m\u001b[0;34m(\u001b[0m\u001b[0mtf\u001b[0m\u001b[0;34m.\u001b[0m\u001b[0mio\u001b[0m\u001b[0;34m.\u001b[0m\u001b[0mread_file\u001b[0m\u001b[0;34m(\u001b[0m\u001b[0minput_path\u001b[0m\u001b[0;34m)\u001b[0m\u001b[0;34m,\u001b[0m \u001b[0mchannels\u001b[0m\u001b[0;34m=\u001b[0m\u001b[0;36m3\u001b[0m\u001b[0;34m)\u001b[0m\u001b[0;34m\u001b[0m\u001b[0;34m\u001b[0m\u001b[0m\n\u001b[0;32m---> 32\u001b[0;31m         \u001b[0mimage_clear\u001b[0m\u001b[0;34m,\u001b[0m \u001b[0m_\u001b[0m \u001b[0;34m=\u001b[0m \u001b[0mdatasetInit\u001b[0m\u001b[0;34m.\u001b[0m\u001b[0mpreprocess_image_test\u001b[0m\u001b[0;34m(\u001b[0m\u001b[0mimage_clear\u001b[0m\u001b[0;34m,\u001b[0m \u001b[0;36m0\u001b[0m\u001b[0;34m)\u001b[0m\u001b[0;34m\u001b[0m\u001b[0;34m\u001b[0m\u001b[0m\n\u001b[0m\u001b[1;32m     33\u001b[0m \u001b[0;34m\u001b[0m\u001b[0m\n\u001b[1;32m     34\u001b[0m         \u001b[0;31m# 生成霧化圖片\u001b[0m\u001b[0;34m\u001b[0m\u001b[0;34m\u001b[0m\u001b[0m\n",
            "\u001b[0;32m/content/Foggy-CycleGAN/lib/dataset.py\u001b[0m in \u001b[0;36mpreprocess_image_test\u001b[0;34m(self, image, intensity)\u001b[0m\n\u001b[1;32m    153\u001b[0m     \u001b[0;32mdef\u001b[0m \u001b[0mpreprocess_image_test\u001b[0m\u001b[0;34m(\u001b[0m\u001b[0mself\u001b[0m\u001b[0;34m,\u001b[0m \u001b[0mimage\u001b[0m\u001b[0;34m,\u001b[0m \u001b[0mintensity\u001b[0m\u001b[0;34m)\u001b[0m\u001b[0;34m:\u001b[0m\u001b[0;34m\u001b[0m\u001b[0;34m\u001b[0m\u001b[0m\n\u001b[1;32m    154\u001b[0m         \u001b[0mimage\u001b[0m\u001b[0;34m,\u001b[0m \u001b[0mintensity\u001b[0m \u001b[0;34m=\u001b[0m \u001b[0mself\u001b[0m\u001b[0;34m.\u001b[0m\u001b[0mnormalize_image_and_intensity\u001b[0m\u001b[0;34m(\u001b[0m\u001b[0mimage\u001b[0m\u001b[0;34m,\u001b[0m \u001b[0mintensity\u001b[0m\u001b[0;34m)\u001b[0m\u001b[0;34m\u001b[0m\u001b[0;34m\u001b[0m\u001b[0m\n\u001b[0;32m--> 155\u001b[0;31m         \u001b[0mimage\u001b[0m \u001b[0;34m=\u001b[0m \u001b[0mself\u001b[0m\u001b[0;34m.\u001b[0m\u001b[0mresize_to_thumbnail\u001b[0m\u001b[0;34m(\u001b[0m\u001b[0mimage\u001b[0m\u001b[0;34m,\u001b[0m \u001b[0mself\u001b[0m\u001b[0;34m.\u001b[0m\u001b[0mimage_height\u001b[0m\u001b[0;34m,\u001b[0m \u001b[0mself\u001b[0m\u001b[0;34m.\u001b[0m\u001b[0mimage_width\u001b[0m\u001b[0;34m)\u001b[0m\u001b[0;34m\u001b[0m\u001b[0;34m\u001b[0m\u001b[0m\n\u001b[0m\u001b[1;32m    156\u001b[0m         \u001b[0;32mreturn\u001b[0m \u001b[0mimage\u001b[0m\u001b[0;34m,\u001b[0m \u001b[0mintensity\u001b[0m\u001b[0;34m\u001b[0m\u001b[0;34m\u001b[0m\u001b[0m\n\u001b[1;32m    157\u001b[0m \u001b[0;34m\u001b[0m\u001b[0m\n",
            "\u001b[0;32m/content/Foggy-CycleGAN/lib/dataset.py\u001b[0m in \u001b[0;36mresize_to_thumbnail\u001b[0;34m(self, image, target_height, target_width, random_crop)\u001b[0m\n\u001b[1;32m    123\u001b[0m             \u001b[0mimage\u001b[0m \u001b[0;34m=\u001b[0m \u001b[0mtf\u001b[0m\u001b[0;34m.\u001b[0m\u001b[0mimage\u001b[0m\u001b[0;34m.\u001b[0m\u001b[0mcrop_to_bounding_box\u001b[0m\u001b[0;34m(\u001b[0m\u001b[0mimage\u001b[0m\u001b[0;34m,\u001b[0m \u001b[0mstart\u001b[0m\u001b[0;34m[\u001b[0m\u001b[0;36m0\u001b[0m\u001b[0;34m]\u001b[0m\u001b[0;34m,\u001b[0m \u001b[0mstart\u001b[0m\u001b[0;34m[\u001b[0m\u001b[0;36m1\u001b[0m\u001b[0;34m]\u001b[0m\u001b[0;34m,\u001b[0m \u001b[0mcrop_height\u001b[0m\u001b[0;34m,\u001b[0m \u001b[0mcrop_width\u001b[0m\u001b[0;34m)\u001b[0m\u001b[0;34m\u001b[0m\u001b[0;34m\u001b[0m\u001b[0m\n\u001b[1;32m    124\u001b[0m \u001b[0;34m\u001b[0m\u001b[0m\n\u001b[0;32m--> 125\u001b[0;31m         return tf.image.resize(image, [target_width, target_height],\n\u001b[0m\u001b[1;32m    126\u001b[0m                                method=tf.image.ResizeMethod.NEAREST_NEIGHBOR)\n\u001b[1;32m    127\u001b[0m \u001b[0;34m\u001b[0m\u001b[0m\n",
            "\u001b[0;32m/usr/local/lib/python3.10/dist-packages/tensorflow/python/util/traceback_utils.py\u001b[0m in \u001b[0;36merror_handler\u001b[0;34m(*args, **kwargs)\u001b[0m\n\u001b[1;32m    148\u001b[0m     \u001b[0mfiltered_tb\u001b[0m \u001b[0;34m=\u001b[0m \u001b[0;32mNone\u001b[0m\u001b[0;34m\u001b[0m\u001b[0;34m\u001b[0m\u001b[0m\n\u001b[1;32m    149\u001b[0m     \u001b[0;32mtry\u001b[0m\u001b[0;34m:\u001b[0m\u001b[0;34m\u001b[0m\u001b[0;34m\u001b[0m\u001b[0m\n\u001b[0;32m--> 150\u001b[0;31m       \u001b[0;32mreturn\u001b[0m \u001b[0mfn\u001b[0m\u001b[0;34m(\u001b[0m\u001b[0;34m*\u001b[0m\u001b[0margs\u001b[0m\u001b[0;34m,\u001b[0m \u001b[0;34m**\u001b[0m\u001b[0mkwargs\u001b[0m\u001b[0;34m)\u001b[0m\u001b[0;34m\u001b[0m\u001b[0;34m\u001b[0m\u001b[0m\n\u001b[0m\u001b[1;32m    151\u001b[0m     \u001b[0;32mexcept\u001b[0m \u001b[0mException\u001b[0m \u001b[0;32mas\u001b[0m \u001b[0me\u001b[0m\u001b[0;34m:\u001b[0m\u001b[0;34m\u001b[0m\u001b[0;34m\u001b[0m\u001b[0m\n\u001b[1;32m    152\u001b[0m       \u001b[0mfiltered_tb\u001b[0m \u001b[0;34m=\u001b[0m \u001b[0m_process_traceback_frames\u001b[0m\u001b[0;34m(\u001b[0m\u001b[0me\u001b[0m\u001b[0;34m.\u001b[0m\u001b[0m__traceback__\u001b[0m\u001b[0;34m)\u001b[0m\u001b[0;34m\u001b[0m\u001b[0;34m\u001b[0m\u001b[0m\n",
            "\u001b[0;32m/usr/local/lib/python3.10/dist-packages/tensorflow/python/util/dispatch.py\u001b[0m in \u001b[0;36mop_dispatch_handler\u001b[0;34m(*args, **kwargs)\u001b[0m\n\u001b[1;32m   1258\u001b[0m       \u001b[0;31m# Fallback dispatch system (dispatch v1):\u001b[0m\u001b[0;34m\u001b[0m\u001b[0;34m\u001b[0m\u001b[0m\n\u001b[1;32m   1259\u001b[0m       \u001b[0;32mtry\u001b[0m\u001b[0;34m:\u001b[0m\u001b[0;34m\u001b[0m\u001b[0;34m\u001b[0m\u001b[0m\n\u001b[0;32m-> 1260\u001b[0;31m         \u001b[0;32mreturn\u001b[0m \u001b[0mdispatch_target\u001b[0m\u001b[0;34m(\u001b[0m\u001b[0;34m*\u001b[0m\u001b[0margs\u001b[0m\u001b[0;34m,\u001b[0m \u001b[0;34m**\u001b[0m\u001b[0mkwargs\u001b[0m\u001b[0;34m)\u001b[0m\u001b[0;34m\u001b[0m\u001b[0;34m\u001b[0m\u001b[0m\n\u001b[0m\u001b[1;32m   1261\u001b[0m       \u001b[0;32mexcept\u001b[0m \u001b[0;34m(\u001b[0m\u001b[0mTypeError\u001b[0m\u001b[0;34m,\u001b[0m \u001b[0mValueError\u001b[0m\u001b[0;34m)\u001b[0m\u001b[0;34m:\u001b[0m\u001b[0;34m\u001b[0m\u001b[0;34m\u001b[0m\u001b[0m\n\u001b[1;32m   1262\u001b[0m         \u001b[0;31m# Note: convert_to_eager_tensor currently raises a ValueError, not a\u001b[0m\u001b[0;34m\u001b[0m\u001b[0;34m\u001b[0m\u001b[0m\n",
            "\u001b[0;32m/usr/local/lib/python3.10/dist-packages/tensorflow/python/ops/image_ops_impl.py\u001b[0m in \u001b[0;36mresize_images_v2\u001b[0;34m(images, size, method, preserve_aspect_ratio, antialias, name)\u001b[0m\n\u001b[1;32m   1787\u001b[0m       \u001b[0;32mraise\u001b[0m \u001b[0mValueError\u001b[0m\u001b[0;34m(\u001b[0m\u001b[0;34m'Resize method is not implemented: {}'\u001b[0m\u001b[0;34m.\u001b[0m\u001b[0mformat\u001b[0m\u001b[0;34m(\u001b[0m\u001b[0mmethod\u001b[0m\u001b[0;34m)\u001b[0m\u001b[0;34m)\u001b[0m\u001b[0;34m\u001b[0m\u001b[0;34m\u001b[0m\u001b[0m\n\u001b[1;32m   1788\u001b[0m \u001b[0;34m\u001b[0m\u001b[0m\n\u001b[0;32m-> 1789\u001b[0;31m   return _resize_images_common(\n\u001b[0m\u001b[1;32m   1790\u001b[0m       \u001b[0mimages\u001b[0m\u001b[0;34m,\u001b[0m\u001b[0;34m\u001b[0m\u001b[0;34m\u001b[0m\u001b[0m\n\u001b[1;32m   1791\u001b[0m       \u001b[0mresize_fn\u001b[0m\u001b[0;34m,\u001b[0m\u001b[0;34m\u001b[0m\u001b[0;34m\u001b[0m\u001b[0m\n",
            "\u001b[0;32m/usr/local/lib/python3.10/dist-packages/tensorflow/python/ops/image_ops_impl.py\u001b[0m in \u001b[0;36m_resize_images_common\u001b[0;34m(images, resizer_fn, size, preserve_aspect_ratio, name, skip_resize_if_same)\u001b[0m\n\u001b[1;32m   1456\u001b[0m                           skip_resize_if_same):\n\u001b[1;32m   1457\u001b[0m   \u001b[0;34m\"\"\"Core functionality for v1 and v2 resize functions.\"\"\"\u001b[0m\u001b[0;34m\u001b[0m\u001b[0;34m\u001b[0m\u001b[0m\n\u001b[0;32m-> 1458\u001b[0;31m   \u001b[0;32mwith\u001b[0m \u001b[0mops\u001b[0m\u001b[0;34m.\u001b[0m\u001b[0mname_scope\u001b[0m\u001b[0;34m(\u001b[0m\u001b[0mname\u001b[0m\u001b[0;34m,\u001b[0m \u001b[0;34m'resize'\u001b[0m\u001b[0;34m,\u001b[0m \u001b[0;34m[\u001b[0m\u001b[0mimages\u001b[0m\u001b[0;34m,\u001b[0m \u001b[0msize\u001b[0m\u001b[0;34m]\u001b[0m\u001b[0;34m)\u001b[0m\u001b[0;34m:\u001b[0m\u001b[0;34m\u001b[0m\u001b[0;34m\u001b[0m\u001b[0m\n\u001b[0m\u001b[1;32m   1459\u001b[0m     \u001b[0mimages\u001b[0m \u001b[0;34m=\u001b[0m \u001b[0mops\u001b[0m\u001b[0;34m.\u001b[0m\u001b[0mconvert_to_tensor\u001b[0m\u001b[0;34m(\u001b[0m\u001b[0mimages\u001b[0m\u001b[0;34m,\u001b[0m \u001b[0mname\u001b[0m\u001b[0;34m=\u001b[0m\u001b[0;34m'images'\u001b[0m\u001b[0;34m)\u001b[0m\u001b[0;34m\u001b[0m\u001b[0;34m\u001b[0m\u001b[0m\n\u001b[1;32m   1460\u001b[0m     \u001b[0;32mif\u001b[0m \u001b[0mimages\u001b[0m\u001b[0;34m.\u001b[0m\u001b[0mget_shape\u001b[0m\u001b[0;34m(\u001b[0m\u001b[0;34m)\u001b[0m\u001b[0;34m.\u001b[0m\u001b[0mndims\u001b[0m \u001b[0;32mis\u001b[0m \u001b[0;32mNone\u001b[0m\u001b[0;34m:\u001b[0m\u001b[0;34m\u001b[0m\u001b[0;34m\u001b[0m\u001b[0m\n",
            "\u001b[0;32m/usr/local/lib/python3.10/dist-packages/tensorflow/python/framework/ops.py\u001b[0m in \u001b[0;36m__exit__\u001b[0;34m(self, type_arg, value_arg, traceback_arg)\u001b[0m\n\u001b[1;32m    180\u001b[0m     \u001b[0;32mpass\u001b[0m\u001b[0;34m\u001b[0m\u001b[0;34m\u001b[0m\u001b[0m\n\u001b[1;32m    181\u001b[0m \u001b[0;34m\u001b[0m\u001b[0m\n\u001b[0;32m--> 182\u001b[0;31m   \u001b[0;32mdef\u001b[0m \u001b[0m__exit__\u001b[0m\u001b[0;34m(\u001b[0m\u001b[0mself\u001b[0m\u001b[0;34m,\u001b[0m \u001b[0mtype_arg\u001b[0m\u001b[0;34m,\u001b[0m \u001b[0mvalue_arg\u001b[0m\u001b[0;34m,\u001b[0m \u001b[0mtraceback_arg\u001b[0m\u001b[0;34m)\u001b[0m \u001b[0;34m->\u001b[0m \u001b[0mbool\u001b[0m\u001b[0;34m:\u001b[0m\u001b[0;34m\u001b[0m\u001b[0;34m\u001b[0m\u001b[0m\n\u001b[0m\u001b[1;32m    183\u001b[0m     \u001b[0;32mreturn\u001b[0m \u001b[0;32mFalse\u001b[0m  \u001b[0;31m# False values do not suppress exceptions\u001b[0m\u001b[0;34m\u001b[0m\u001b[0;34m\u001b[0m\u001b[0m\n\u001b[1;32m    184\u001b[0m \u001b[0;34m\u001b[0m\u001b[0m\n",
            "\u001b[0;31mKeyboardInterrupt\u001b[0m: "
          ]
        }
      ]
    },
    {
      "cell_type": "code",
      "source": [
        "from google.colab import drive\n",
        "drive.mount('/content/drive')"
      ],
      "metadata": {
        "id": "MJt5j2ntZVpZ",
        "outputId": "708ec93d-c91f-4dfe-f77a-7456a44b15b3",
        "colab": {
          "base_uri": "https://localhost:8080/"
        }
      },
      "id": "MJt5j2ntZVpZ",
      "execution_count": 5,
      "outputs": [
        {
          "output_type": "stream",
          "name": "stdout",
          "text": [
            "Mounted at /content/drive\n"
          ]
        }
      ]
    }
  ],
  "metadata": {
    "kernelspec": {
      "display_name": "Python 3",
      "language": "python",
      "name": "python3"
    },
    "language_info": {
      "codemirror_mode": {
        "name": "ipython",
        "version": 2
      },
      "file_extension": ".py",
      "mimetype": "text/x-python",
      "name": "python",
      "nbconvert_exporter": "python",
      "pygments_lexer": "ipython2",
      "version": "2.7.6"
    },
    "colab": {
      "provenance": []
    }
  },
  "nbformat": 4,
  "nbformat_minor": 5
}